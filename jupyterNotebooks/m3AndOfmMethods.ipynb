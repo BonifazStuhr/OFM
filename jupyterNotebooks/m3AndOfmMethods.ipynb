{
 "cells": [
  {
   "cell_type": "markdown",
   "metadata": {},
   "source": [
    "### Convergence Criterium"
   ]
  },
  {
   "cell_type": "code",
   "execution_count": 8,
   "metadata": {},
   "outputs": [],
   "source": [
    "def getConvergenceEpoch(epochs, losses, patience=3, min_delta=0):\n",
    "    \"\"\"\n",
    "    Convergence Criterium for the pretext task.\n",
    "    \n",
    "    :param epochs: (Tupel/Array): The epochs for each given loss value sorted in ascending order. \n",
    "    :param losses: (Tupel/Array): The losses for each given epochs. \n",
    "    :param patience: (Integer): How many epochs to wait before declaring convergence of now lower loss is found.\n",
    "    :param min_delta: (Integer): A delta (threshold) for the current value to count as lower value.\n",
    "    :return: convergence_epoch: (Integer) the epoch of convergence.\n",
    "    :return: convergence_loss: (Float) the loss at convergence.\n",
    "    \"\"\"\n",
    "    best = 999999\n",
    "    wait = 0\n",
    "    for epoch, current in zip (epochs, losses): \n",
    "        if np.less(current - min_delta, best):\n",
    "            best = current\n",
    "            wait = 0\n",
    "        else:\n",
    "            wait += 1\n",
    "            if wait >= patience:\n",
    "                return int(epoch), current\n",
    "    print(\"No convergence!\")        \n",
    "    return int(epochs[-1]), losses[-1]   "
   ]
  },
  {
   "cell_type": "code",
   "execution_count": 18,
   "metadata": {},
   "outputs": [],
   "source": [
    "def getConvergenceEpochPerModel(pretext_model_names, p_epochs_per_xFold_per_model,p_measurements_per_xFold_per_model, patience=3, min_delta=0):\n",
    "    \"\"\"\n",
    "    Helper function to calculate the epoch of convergence for each given model.\n",
    "    \n",
    "    :param pretext_model_names: (Array of Strings): The pretext model names to calculate the convergence epoch for.\n",
    "    :param p_epochs_per_xFold_per_model: (Array of Arrays of Tupels/Arrays): The epochs for each given loss value sorted in ascending order for every model and xFold. \n",
    "    :param p_measurements_per_xFold_per_model: (Array of Arrays of Tupels/Arrays): The measurments for each given epochs for every model and xFold. \n",
    "    :param patience: (Integer): How many epochs to wait before declaring convergence if no lower measurment is found.\n",
    "    :param min_delta: (Integer): A delta (threshold) for the current measurmet to count as lower measurmet.\n",
    "    :return: p_converget_epoch_per_model: (Array of Integer) the epoch of convergence for each model.\n",
    "    \"\"\"\n",
    "    p_converget_epoch_per_model = []\n",
    "    for i in range(len(pretext_model_names)):\n",
    "        p_epochs = p_epochs_per_xFold_per_model[i][0]\n",
    "        p_mean_loss = np.mean(p_measurements_per_xFold_per_model[i], axis=0)\n",
    "        p_converget_epoch, p_convergence_loss = getConvergenceEpoch(p_epochs, p_mean_loss, patience=patience, min_delta=min_delta)\n",
    "        p_converget_epoch_per_model.append(p_converget_epoch)\n",
    "        print(\"Using Convergence at Epoch: \" + str(p_converget_epoch) + \" with loss: \" + str(p_convergence_loss))\n",
    "    return p_converget_epoch_per_model   "
   ]
  },
  {
   "cell_type": "markdown",
   "metadata": {},
   "source": [
    "### Linear Interpolation"
   ]
  },
  {
   "cell_type": "code",
   "execution_count": 10,
   "metadata": {},
   "outputs": [],
   "source": [
    "def linearInterpolateMeasurements(list_of_measurements, measurement_epochs):\n",
    "    \"\"\"\n",
    "    Linear Interpolation of each measurement tupel in the list. Returns interploated values for each epoch and measurement tupel.\n",
    "    \n",
    "    :param p_epochs_per_xFold_per_model: (Array of Tupels/Arrays): List of [The epochs for each given measurement sorted in ascending order]. \n",
    "    :param p_losses_per_xFold_per_model: (Array of Tupels/Arrays): List of [The measurements for each given epochs]. \n",
    "    :return: interpolated_list_of_measurements: (Array of Tupels/Arrays): List of [The interpolated epochs for each given measurement sorted in ascending order]. \n",
    "    :return: interpolated_measurement_epochs: (Array of Tupels/Arrays): List of [The interpolated measurements for each given epochs]. \n",
    "    \"\"\"\n",
    "    interpolated_list_of_measurements = []\n",
    "    interpolated_measurement_epochs = np.arange(np.min(measurement_epochs), np.max(measurement_epochs)+1).astype(int)\n",
    "    for measurement in list_of_measurements:\n",
    "        interpolated_list_of_measurements.append(np.interp(interpolated_measurement_epochs,measurement_epochs,measurement))\n",
    "    return interpolated_list_of_measurements, interpolated_measurement_epochs"
   ]
  },
  {
   "cell_type": "markdown",
   "metadata": {},
   "source": [
    "### Metrics Mismatch (M3) and Hard Objective Function Mismatch"
   ]
  },
  {
   "cell_type": "code",
   "execution_count": 11,
   "metadata": {},
   "outputs": [],
   "source": [
    "def MM3(measurements_metric_1, measurements_metric_2):\n",
    "    \"\"\"\n",
    "    Calculates the mean Metrics Mismatch between measurements of two metrics as described in the paper.\n",
    "    \n",
    "    :param measurements_metric_1: (Array of Tupels/Arrays): Measurements sorted the same way as measurements_metric_2.\n",
    "    :param measurements_metric_2: (Array of Tupels/Arrays): Measurements sorted the same way as measurements_metric_1.\n",
    "    :return: mm3: (Float): The Mean Metrics Mismatch (MM3) between the two measurement tupels. \n",
    "    \"\"\"\n",
    "    return np.mean(measurements_metric_1 - measurements_metric_2)"
   ]
  },
  {
   "cell_type": "markdown",
   "metadata": {},
   "source": [
    "### Soft Metrics Mismatch (S3M) and Soft Objective Function Mismatch (OFM)"
   ]
  },
  {
   "cell_type": "code",
   "execution_count": 12,
   "metadata": {},
   "outputs": [],
   "source": [
    "def OFMNormalization(measurements_metric_1, shift_measurements=False):\n",
    "    \"\"\"\n",
    "    Calculates the normalization for the Objective Function Mismatch for measurements of a metric for the given tupel.\n",
    "    \n",
    "    :param measurements_metric_1: (Array of Tupels/Arrays): Measurements (of a model).\n",
    "    :param shift_measurements: (Boolean): If true the measurements to lie between 0 and 100.\n",
    "    :return: norm_measurements_metric_1: (Array of Tupels/Arrays): Normalized measurements (of a model) for OFM calculation.\n",
    "    \"\"\"\n",
    "    if shift_measurements:\n",
    "        measurements_metric_1 = np.subtract(measurements_metric_1, np.min(measurements_metric_1))\n",
    "    \n",
    "    init_measurment = measurements_metric_1[0]\n",
    "    min_measurment = np.min(measurements_metric_1)  \n",
    "    \n",
    "    norm_measurements_metric_1 = []\n",
    "    denominator = np.subtract(measurements_metric_1[0], np.min(measurements_metric_1))\n",
    "    for value in measurements_metric_1:\n",
    "        if (value == init_measurment) and (init_measurment == min_measurment):\n",
    "            norm_measurements_metric_1.append(0)\n",
    "        elif (value > init_measurment) and (init_measurment == min_measurment):\n",
    "            norm_measurements_metric_1.append(float('inf'))\n",
    "        else:\n",
    "            norm_measurements_metric_1.append(np.divide(value, denominator))\n",
    "                     \n",
    "    return np.multiply(norm_measurements_metric_1, 100)     "
   ]
  },
  {
   "cell_type": "code",
   "execution_count": 13,
   "metadata": {},
   "outputs": [],
   "source": [
    "def SM3(index, measurements_metric_1):\n",
    "    \"\"\"\n",
    "    Calculates the Soft Metrics Mismatch for a given step/epoch (index) described in the paper.\n",
    "    \n",
    "    :param index: (Integer): The step/epoch to calculate SM3 for.\n",
    "    :param measurements_metric_1: (Array of Tupels/Arrays): Measurements (of a model).\n",
    "    :return: sm3: (Float): The Soft Metrics Mismatch (SM3) at this step/epoch. \n",
    "    \"\"\"\n",
    "    return measurements_metric_1[index] - np.min(measurements_metric_1[:index+1])"
   ]
  },
  {
   "cell_type": "code",
   "execution_count": 14,
   "metadata": {},
   "outputs": [],
   "source": [
    "def MSM3(measurements_metric_1):\n",
    "    \"\"\"\n",
    "    Calculates the Mean Soft Metrics Mismatch between measurements of two metrics as described in the paper.\n",
    "    \n",
    "    :param measurements_metric_1: (Array of Tupels/Arrays): Measurements (of a model).\n",
    "    :return: msm3: (Float): The Mean Soft Metrics Mismatch (MSM3) of the two metrics. \n",
    "    \"\"\"        \n",
    "    sm3s = [SM3(i, measurements_metric_1) for i in range(len(measurements_metric_1))]\n",
    "    msm3 = np.mean(sm3s)     \n",
    "    return msm3"
   ]
  },
  {
   "cell_type": "code",
   "execution_count": 15,
   "metadata": {},
   "outputs": [],
   "source": [
    "def cSM3(measurements_metric_1):\n",
    "    \"\"\"\n",
    "    Calculates the Convergence Soft Metrics Mismatch between measurements of two metrics as described in the paper.\n",
    "    \n",
    "    :param measurements_metric_1: (Array of Tupels/Arrays): Measurements (of a model).\n",
    "    :return: cSM3: (Float): The Convergence Soft Metrics Mismatch (cSM3) of the two metrics. \n",
    "    \"\"\"\n",
    "    return SM3(len(measurements_metric_1)-1, measurements_metric_1)"
   ]
  },
  {
   "cell_type": "code",
   "execution_count": 16,
   "metadata": {},
   "outputs": [],
   "source": [
    "def mSM3(measurements_metric_1):\n",
    "    \"\"\"\n",
    "    Calculates the Maximum Soft Metrics Mismatch between measurements of two metrics as described in the paper.\n",
    "    \n",
    "    :param measurements_metric_1: (Array of Tupels/Arrays): Measurements (of a model).\n",
    "    :return: msm3: (Float): The Maximum Soft Metrics Mismatch (mSM3) of the two metrics. \n",
    "    \"\"\"\n",
    "    sm3s = [SM3(i, measurements_metric_1) for i in range(len(measurements_metric_1))]\n",
    "    max_sm3_index = np.argmax(sm3s) \n",
    "    return sm3s[max_sm3_index], max_sm3_index"
   ]
  },
  {
   "cell_type": "code",
   "execution_count": 19,
   "metadata": {},
   "outputs": [],
   "source": [
    "def cSM3AtConvergence(p_epochs_per_xFold, p_measurements_per_xFold, t_epochs_per_xFold, t_measurements_per_xFold, patience, min_delta):\n",
    "    \"\"\"\n",
    "    Calculates the Convergence Soft Metrics Mismatch on the given erros for each individual cross-validation \n",
    "    and returns the mean error on convergence as well ass its range.\n",
    "    \n",
    "    :param p_epochs_per_xFold: (Array of Tupels/Arrays): The measuring epochs for every corss-validation.\n",
    "    :param p_losses_per_xFold: (Array of Tupels/Arrays): The corresponding losses to the cpochs for every corss-validation.\n",
    "    :param p_measurements_per_xFold: (Array of Tupels/Arrays): The corresponding measurments to the epochs of the pretext model for every corss-validation.\n",
    "    :param t_measurements_per_xFold: (Array of Tupels/Arrays): The corresponding measurments to the epochs of the target model for every corss-validation.\n",
    "    :param patience: (Integer): How many epochs to wait before declaring convergence if no lower measurment is found.\n",
    "    :param min_delta: (Integer): A delta (threshold) for the current measurmet to count as lower measurmet.\n",
    "    :return: mean_csm3: (Float): The mean Convergence Soft Metrics Mismatch (mSM3) of the given metrics.\n",
    "    :return: mean_csm3_plus: (Float): The positive range of the Convergence Soft Metrics Mismatch (mSM3).\n",
    "    :return: mean_csm3_minus: (Float): The negative range of the Convergence Soft Metrics Mismatch (mSM3).\n",
    "    \"\"\"\n",
    "    csm3s_per_xFold= []\n",
    "    for i in range(len(p_epochs_per_xFold)):\n",
    "        p_converget_epoch = getConvergenceEpoch(p_epochs_per_xFold[i], p_measurements_per_xFold[i], patience, min_delta)\n",
    "        print(\"Using Convergence at Epoch: \" + str(p_converget_epoch[0]))\n",
    "        if use_interpolation:\n",
    "            measurements, epochs = linearInterpolateMeasurements([t_measurements_per_xFold[i]], t_epochs_per_xFold[i])\n",
    "        p_converget_epoch_index = np.where(epochs == p_converget_epoch[0])[0][0]\n",
    "        \n",
    "        measurements = measurements[0][:p_converget_epoch_index+1]\n",
    "        csm3s_per_xFold.append(cSM3(measurements))\n",
    "        \n",
    "    mean_csm3 = np.mean(csm3s_per_xFold)\n",
    "    mean_csm3_plus = np.max(csm3s_per_xFold) - mean_csm3\n",
    "    mean_csm3_minus = np.min(csm3s_per_xFold) - mean_csm3\n",
    "    return mean_csm3, mean_csm3_plus, mean_csm3_minus"
   ]
  }
 ],
 "metadata": {
  "kernelspec": {
   "display_name": "Python 3",
   "language": "python",
   "name": "python3"
  },
  "language_info": {
   "codemirror_mode": {
    "name": "ipython",
    "version": 3
   },
   "file_extension": ".py",
   "mimetype": "text/x-python",
   "name": "python",
   "nbconvert_exporter": "python",
   "pygments_lexer": "ipython3",
   "version": "3.6.9"
  }
 },
 "nbformat": 4,
 "nbformat_minor": 4
}
